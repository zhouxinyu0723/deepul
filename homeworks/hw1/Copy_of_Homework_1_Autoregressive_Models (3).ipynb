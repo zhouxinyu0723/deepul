{
  "nbformat": 4,
  "nbformat_minor": 0,
  "metadata": {
    "colab": {
      "name": "Copy of Homework 1 Autoregressive Models.ipynb",
      "provenance": [],
      "collapsed_sections": [],
      "toc_visible": true
    },
    "kernelspec": {
      "name": "python3",
      "display_name": "Python 3"
    },
    "gpuClass": "standard",
    "accelerator": "GPU"
  },
  "cells": [
    {
      "cell_type": "markdown",
      "metadata": {
        "id": "Rdy1FtrRpGcC"
      },
      "source": [
        "# Getting Started\n",
        "\n",
        "## Overview\n",
        "This semester, all homeworks will be conducted through Google Colab notebooks. All code for the homework assignment will be written and run in this notebook. Running in Colab will automatically provide a GPU, but you may also run this notebook locally by following [these instructions](https://research.google.com/colaboratory/local-runtimes.html) if you wish to use your own GPU.\n",
        "\n",
        "You will save images in the notebooks to use and fill out a given LaTeX template which will be submitted to Gradescope, along with your notebook code.\n",
        "\n",
        "## Using Colab\n",
        "On the left-hand side, you can click the different icons to see a Table of Contents of the assignment, as well as local files accessible through the notebook.\n",
        "\n",
        "Make sure to go to **Runtime -> Change runtime type** and select **GPU** as the hardware accelerator. This allows you to use a GPU. Run the cells below to get started on the assignment. Note that a session is open for a maximum of 12 hours, and using too much GPU compute may result in restricted access for a short period of time. Please start the homework early so you have ample time to work.\n",
        "\n",
        "**If you loaded this notebook from clicking \"Open in Colab\" from github, you will need to save it to your own Google Drive to keep your work.**\n",
        "\n",
        "## General Tips\n",
        "In each homework problem, you will implement an autoregressive model and run it on two datasets (dataset 1 and dataset 2). The expected outputs for dataset 1 are already provided to help as a sanity check.\n",
        "\n",
        "Feel free to print whatever output (e.g. debugging code, training code, etc) you want, as the graded submission will be the submitted pdf with images.\n",
        "\n",
        "After you complete the assignment, download all of the image outputted in the results/ folder and upload them to the figure folder in the given latex template.\n",
        "\n",
        "Run the cells below to download and load up the starter code."
      ]
    },
    {
      "cell_type": "code",
      "metadata": {
        "id": "wUVy2glDtoaR",
        "colab": {
          "base_uri": "https://localhost:8080/"
        },
        "outputId": "9d48f0a8-79b4-49b6-97fc-d28ba75a7a67"
      },
      "source": [
        "!if [ -d deepul ]; then rm -Rf deepul; fi\n",
        "!git clone https://github.com/rll/deepul.git \n",
        "!unzip -qq deepul/homeworks/hw1/data/hw1_data.zip -d deepul/homeworks/hw1/data/\n",
        "!pip install ./deepul"
      ],
      "execution_count": 1,
      "outputs": [
        {
          "output_type": "stream",
          "name": "stdout",
          "text": [
            "Cloning into 'deepul'...\n",
            "remote: Enumerating objects: 758, done.\u001b[K\n",
            "remote: Total 758 (delta 0), reused 0 (delta 0), pack-reused 758\u001b[K\n",
            "Receiving objects: 100% (758/758), 118.40 MiB | 24.32 MiB/s, done.\n",
            "Resolving deltas: 100% (347/347), done.\n",
            "Checking out files: 100% (129/129), done.\n",
            "Looking in indexes: https://pypi.org/simple, https://us-python.pkg.dev/colab-wheels/public/simple/\n",
            "Processing ./deepul\n",
            "\u001b[33m  DEPRECATION: A future pip version will change local packages to be built in-place without first copying to a temporary directory. We recommend you use --use-feature=in-tree-build to test your packages with this new behavior before it becomes the default.\n",
            "   pip 21.3 will remove support for this functionality. You can find discussion regarding this at https://github.com/pypa/pip/issues/7555.\u001b[0m\n",
            "Building wheels for collected packages: deepul\n",
            "  Building wheel for deepul (setup.py) ... \u001b[?25l\u001b[?25hdone\n",
            "  Created wheel for deepul: filename=deepul-0.1.0-py3-none-any.whl size=16663 sha256=99b1c328e82af85f145e352c51875373e037fe545ddfe911f5a14febb7782ef6\n",
            "  Stored in directory: /tmp/pip-ephem-wheel-cache-goo6pr1e/wheels/40/86/14/ae5eebf191515af53ab86be6749af0ae2a71269b38f187557d\n",
            "Successfully built deepul\n",
            "Installing collected packages: deepul\n",
            "  Attempting uninstall: deepul\n",
            "    Found existing installation: deepul 0.1.0\n",
            "    Uninstalling deepul-0.1.0:\n",
            "      Successfully uninstalled deepul-0.1.0\n",
            "Successfully installed deepul-0.1.0\n"
          ]
        }
      ]
    },
    {
      "cell_type": "code",
      "metadata": {
        "id": "ZHWosWrbpO5Y"
      },
      "source": [
        "from deepul.hw1_helper import *"
      ],
      "execution_count": 2,
      "outputs": []
    },
    {
      "cell_type": "markdown",
      "metadata": {
        "id": "7E4CMktzo100"
      },
      "source": [
        "# Question 1: 1D Data\n",
        "\n",
        "In this question, we will train simple generative models on discrete 1D data.\n",
        "\n",
        "Execute the cell below to visualize our datasets"
      ]
    },
    {
      "cell_type": "code",
      "metadata": {
        "id": "ehhv2FZGo4_b",
        "colab": {
          "resources": {
            "http://localhost:8080/undefined": {
              "data": "CjwhRE9DVFlQRSBodG1sPgo8aHRtbCBsYW5nPWVuPgogIDxtZXRhIGNoYXJzZXQ9dXRmLTg+CiAgPG1ldGEgbmFtZT12aWV3cG9ydCBjb250ZW50PSJpbml0aWFsLXNjYWxlPTEsIG1pbmltdW0tc2NhbGU9MSwgd2lkdGg9ZGV2aWNlLXdpZHRoIj4KICA8dGl0bGU+RXJyb3IgNDA0IChOb3QgRm91bmQpISExPC90aXRsZT4KICA8c3R5bGU+CiAgICAqe21hcmdpbjowO3BhZGRpbmc6MH1odG1sLGNvZGV7Zm9udDoxNXB4LzIycHggYXJpYWwsc2Fucy1zZXJpZn1odG1se2JhY2tncm91bmQ6I2ZmZjtjb2xvcjojMjIyO3BhZGRpbmc6MTVweH1ib2R5e21hcmdpbjo3JSBhdXRvIDA7bWF4LXdpZHRoOjM5MHB4O21pbi1oZWlnaHQ6MTgwcHg7cGFkZGluZzozMHB4IDAgMTVweH0qID4gYm9keXtiYWNrZ3JvdW5kOnVybCgvL3d3dy5nb29nbGUuY29tL2ltYWdlcy9lcnJvcnMvcm9ib3QucG5nKSAxMDAlIDVweCBuby1yZXBlYXQ7cGFkZGluZy1yaWdodDoyMDVweH1we21hcmdpbjoxMXB4IDAgMjJweDtvdmVyZmxvdzpoaWRkZW59aW5ze2NvbG9yOiM3Nzc7dGV4dC1kZWNvcmF0aW9uOm5vbmV9YSBpbWd7Ym9yZGVyOjB9QG1lZGlhIHNjcmVlbiBhbmQgKG1heC13aWR0aDo3NzJweCl7Ym9keXtiYWNrZ3JvdW5kOm5vbmU7bWFyZ2luLXRvcDowO21heC13aWR0aDpub25lO3BhZGRpbmctcmlnaHQ6MH19I2xvZ297YmFja2dyb3VuZDp1cmwoLy93d3cuZ29vZ2xlLmNvbS9pbWFnZXMvbG9nb3MvZXJyb3JwYWdlL2Vycm9yX2xvZ28tMTUweDU0LnBuZykgbm8tcmVwZWF0O21hcmdpbi1sZWZ0Oi01cHh9QG1lZGlhIG9ubHkgc2NyZWVuIGFuZCAobWluLXJlc29sdXRpb246MTkyZHBpKXsjbG9nb3tiYWNrZ3JvdW5kOnVybCgvL3d3dy5nb29nbGUuY29tL2ltYWdlcy9sb2dvcy9lcnJvcnBhZ2UvZXJyb3JfbG9nby0xNTB4NTQtMngucG5nKSBuby1yZXBlYXQgMCUgMCUvMTAwJSAxMDAlOy1tb3otYm9yZGVyLWltYWdlOnVybCgvL3d3dy5nb29nbGUuY29tL2ltYWdlcy9sb2dvcy9lcnJvcnBhZ2UvZXJyb3JfbG9nby0xNTB4NTQtMngucG5nKSAwfX1AbWVkaWEgb25seSBzY3JlZW4gYW5kICgtd2Via2l0LW1pbi1kZXZpY2UtcGl4ZWwtcmF0aW86Mil7I2xvZ297YmFja2dyb3VuZDp1cmwoLy93d3cuZ29vZ2xlLmNvbS9pbWFnZXMvbG9nb3MvZXJyb3JwYWdlL2Vycm9yX2xvZ28tMTUweDU0LTJ4LnBuZykgbm8tcmVwZWF0Oy13ZWJraXQtYmFja2dyb3VuZC1zaXplOjEwMCUgMTAwJX19I2xvZ297ZGlzcGxheTppbmxpbmUtYmxvY2s7aGVpZ2h0OjU0cHg7d2lkdGg6MTUwcHh9CiAgPC9zdHlsZT4KICA8YSBocmVmPS8vd3d3Lmdvb2dsZS5jb20vPjxzcGFuIGlkPWxvZ28gYXJpYS1sYWJlbD1Hb29nbGU+PC9zcGFuPjwvYT4KICA8cD48Yj40MDQuPC9iPiA8aW5zPlRoYXTigJlzIGFuIGVycm9yLjwvaW5zPgogIDxwPiAgPGlucz5UaGF04oCZcyBhbGwgd2Uga25vdy48L2lucz4K",
              "ok": false,
              "headers": [
                [
                  "content-length",
                  "1449"
                ],
                [
                  "content-type",
                  "text/html; charset=utf-8"
                ]
              ],
              "status": 404,
              "status_text": ""
            }
          },
          "base_uri": "https://localhost:8080/",
          "height": 608
        },
        "outputId": "196246bb-b8af-46ac-b194-7c10c43d0d9c"
      },
      "source": [
        "visualize_q1_data(dset_type=1)\n",
        "visualize_q1_data(dset_type=2)"
      ],
      "execution_count": 3,
      "outputs": [
        {
          "output_type": "stream",
          "name": "stdout",
          "text": [
            "Dataset 1\n"
          ]
        },
        {
          "output_type": "display_data",
          "data": {
            "text/plain": [
              "<Figure size 432x288 with 2 Axes>"
            ],
            "image/png": "[encoded data removed]"
          },
          "metadata": {
            "needs_background": "light"
          }
        },
        {
          "output_type": "stream",
          "name": "stdout",
          "text": [
            "Dataset 2\n"
          ]
        },
        {
          "output_type": "display_data",
          "data": {
            "text/plain": [
              "<Figure size 432x288 with 2 Axes>"
            ],
            "image/png": "[encoded data removed]"
          },
          "metadata": {
            "needs_background": "light"
          }
        }
      ]
    },
    {
      "cell_type": "markdown",
      "metadata": {
        "id": "kSGTVznZqAR3"
      },
      "source": [
        "## Part (a) Fitting a Histogram\n",
        "\n",
        "Let $\\theta = (\\theta_0, \\dots, \\theta_{d-1}) \\in \\mathbb{R}^d$ and define the model $p_\\theta(x) = \\frac{e^{\\theta_x}}{\\sum_{x'}e^{\\theta_{x'}}}$\n",
        "\n",
        "Fit $p_\\theta$ with maximum likelihood via stochastic gradient descent on the training set, using $\\theta$ initialized to zero. Use your favorite version of stochastic gradient descent, and optimize your hyperparameters on a validation set of your choice.\n",
        "\n",
        "**You will provide these deliverables**\n",
        "\n",
        "\n",
        "1.   Over the course of training, record the average negative log-likelihood (nats / dim) of the training data (per minibatch) and test data (for your entire test set). Code is provided that automatically plots the training curves. \n",
        "2.   Report the final test set performance of your final model\n",
        "3. Plot the model probabilities in a bar graph with $\\{0,\\dots,d-1\\}$ on the x-axis and a real number in $[0,1]$ on the y-axis.\n",
        "\n",
        "\n"
      ]
    },
    {
      "cell_type": "markdown",
      "metadata": {
        "id": "Yg0Jmo1PSaE4"
      },
      "source": [
        "### Solution\n",
        "Fill out the function below and return the necessary arguments. Feel free to create more cells if need be."
      ]
    },
    {
      "cell_type": "code",
      "metadata": {
        "id": "BJNa6dHKpEQU",
        "colab": {
          "base_uri": "https://localhost:8080/"
        },
        "outputId": "7752a947-3c64-44bc-fe02-ae5fea46caa5"
      },
      "source": [
        "import numpy as np\n",
        "import random\n",
        "import torch\n",
        "import torch.nn as nn\n",
        "import torch.optim as optim\n",
        "from tqdm import tqdm\n",
        "\n",
        "device = torch.device(\"cuda:0\" if torch.cuda.is_available() else \"cpu\")\n",
        "if torch.cuda.is_available():\n",
        "  print(\"GPU available, use GPU. :) \")\n",
        "else:\n",
        "  print(\"use CPU. :( \") \n",
        "class histo(nn.Module):\n",
        "  def __init__(self, d):\n",
        "    super(histo, self).__init__()\n",
        "    self.d = d\n",
        "    self.theta = torch.nn.parameter.Parameter(torch.zeros(self.d))\n",
        "\n",
        "  def forward(self, x):\n",
        "    likelyhood = self.p[x]\n",
        "    loss = -torch.mean(torch.log(likelyhood))\n",
        "    return loss\n",
        "  @property\n",
        "  def p(self):\n",
        "    return torch.nn.functional.softmax(self.theta)\n",
        "def q1_a(train_data, test_data, d, dset_id):\n",
        "  \"\"\"\n",
        "  train_data: An (n_train,) numpy array of integers in {0, ..., d-1}\n",
        "  test_data: An (n_test,) numpy array of integers in {0, .., d-1}\n",
        "  d: The number of possible discrete values for random variable x\n",
        "  dset_id: \n",
        "  Returns\n",
        "  - a (# of training iterations,) numpy array of train_losses evaluated every minibatch\n",
        "  - a (# of epochs + 1,) numpy array of test_losses evaluated once at initialization and after each epoch\n",
        "  - a numpy array of size (d,) of model probabilities\n",
        "  \"\"\"\n",
        "  # prepare data, model and optimizer \n",
        "  model = histo(d).to(device)\n",
        "  optimizer = optim.Adadelta(model.parameters(), lr=0.1)\n",
        "  # init output\n",
        "  losses = []\n",
        "  test_losses = [model(torch.from_numpy(test_data).to(device)).detach().numpy().item()]\n",
        "\n",
        "  # traning model\n",
        "  model.train()\n",
        "  if dset_id == 1:\n",
        "    iteration = 10000\n",
        "  else:\n",
        "    iteration = 20\n",
        "  for iter in tqdm(range(iteration)):\n",
        "    batch = np.random.choice(train_data,20)\n",
        "    optimizer.zero_grad()\n",
        "    loss = model(torch.from_numpy(batch).to(device))\n",
        "    losses.append(loss.detach().numpy().item())\n",
        "    test_losses.append(model(test_data).detach().numpy().item())\n",
        "    loss.backward()\n",
        "    optimizer.step()\n",
        "    \n",
        "  return losses, test_losses, model.p.detach().numpy()\n",
        "    \n",
        "\n",
        "  \"\"\" YOUR CODE HERE \"\"\""
      ],
      "execution_count": 4,
      "outputs": [
        {
          "output_type": "stream",
          "name": "stdout",
          "text": [
            "GPU available, use GPU. :) \n"
          ]
        }
      ]
    },
    {
      "cell_type": "markdown",
      "metadata": {
        "id": "SiGBSP-ESeIj"
      },
      "source": [
        "### Results\n",
        "\n",
        "Once you've implemented `q1_a`, execute the cells below to visualize and save your results\n",
        "\n"
      ]
    },
    {
      "cell_type": "code",
      "metadata": {
        "id": "qjK_KReXsqYa",
        "outputId": "59502070-2675-48bf-9afe-9013bf1a0426",
        "colab": {
          "base_uri": "https://localhost:8080/",
          "height": 368,
          "resources": {
            "http://localhost:8080/undefined": {
              "data": "CjwhRE9DVFlQRSBodG1sPgo8aHRtbCBsYW5nPWVuPgogIDxtZXRhIGNoYXJzZXQ9dXRmLTg+CiAgPG1ldGEgbmFtZT12aWV3cG9ydCBjb250ZW50PSJpbml0aWFsLXNjYWxlPTEsIG1pbmltdW0tc2NhbGU9MSwgd2lkdGg9ZGV2aWNlLXdpZHRoIj4KICA8dGl0bGU+RXJyb3IgNDA0IChOb3QgRm91bmQpISExPC90aXRsZT4KICA8c3R5bGU+CiAgICAqe21hcmdpbjowO3BhZGRpbmc6MH1odG1sLGNvZGV7Zm9udDoxNXB4LzIycHggYXJpYWwsc2Fucy1zZXJpZn1odG1se2JhY2tncm91bmQ6I2ZmZjtjb2xvcjojMjIyO3BhZGRpbmc6MTVweH1ib2R5e21hcmdpbjo3JSBhdXRvIDA7bWF4LXdpZHRoOjM5MHB4O21pbi1oZWlnaHQ6MTgwcHg7cGFkZGluZzozMHB4IDAgMTVweH0qID4gYm9keXtiYWNrZ3JvdW5kOnVybCgvL3d3dy5nb29nbGUuY29tL2ltYWdlcy9lcnJvcnMvcm9ib3QucG5nKSAxMDAlIDVweCBuby1yZXBlYXQ7cGFkZGluZy1yaWdodDoyMDVweH1we21hcmdpbjoxMXB4IDAgMjJweDtvdmVyZmxvdzpoaWRkZW59aW5ze2NvbG9yOiM3Nzc7dGV4dC1kZWNvcmF0aW9uOm5vbmV9YSBpbWd7Ym9yZGVyOjB9QG1lZGlhIHNjcmVlbiBhbmQgKG1heC13aWR0aDo3NzJweCl7Ym9keXtiYWNrZ3JvdW5kOm5vbmU7bWFyZ2luLXRvcDowO21heC13aWR0aDpub25lO3BhZGRpbmctcmlnaHQ6MH19I2xvZ297YmFja2dyb3VuZDp1cmwoLy93d3cuZ29vZ2xlLmNvbS9pbWFnZXMvbG9nb3MvZXJyb3JwYWdlL2Vycm9yX2xvZ28tMTUweDU0LnBuZykgbm8tcmVwZWF0O21hcmdpbi1sZWZ0Oi01cHh9QG1lZGlhIG9ubHkgc2NyZWVuIGFuZCAobWluLXJlc29sdXRpb246MTkyZHBpKXsjbG9nb3tiYWNrZ3JvdW5kOnVybCgvL3d3dy5nb29nbGUuY29tL2ltYWdlcy9sb2dvcy9lcnJvcnBhZ2UvZXJyb3JfbG9nby0xNTB4NTQtMngucG5nKSBuby1yZXBlYXQgMCUgMCUvMTAwJSAxMDAlOy1tb3otYm9yZGVyLWltYWdlOnVybCgvL3d3dy5nb29nbGUuY29tL2ltYWdlcy9sb2dvcy9lcnJvcnBhZ2UvZXJyb3JfbG9nby0xNTB4NTQtMngucG5nKSAwfX1AbWVkaWEgb25seSBzY3JlZW4gYW5kICgtd2Via2l0LW1pbi1kZXZpY2UtcGl4ZWwtcmF0aW86Mil7I2xvZ297YmFja2dyb3VuZDp1cmwoLy93d3cuZ29vZ2xlLmNvbS9pbWFnZXMvbG9nb3MvZXJyb3JwYWdlL2Vycm9yX2xvZ28tMTUweDU0LTJ4LnBuZykgbm8tcmVwZWF0Oy13ZWJraXQtYmFja2dyb3VuZC1zaXplOjEwMCUgMTAwJX19I2xvZ297ZGlzcGxheTppbmxpbmUtYmxvY2s7aGVpZ2h0OjU0cHg7d2lkdGg6MTUwcHh9CiAgPC9zdHlsZT4KICA8YSBocmVmPS8vd3d3Lmdvb2dsZS5jb20vPjxzcGFuIGlkPWxvZ28gYXJpYS1sYWJlbD1Hb29nbGU+PC9zcGFuPjwvYT4KICA8cD48Yj40MDQuPC9iPiA8aW5zPlRoYXTigJlzIGFuIGVycm9yLjwvaW5zPgogIDxwPiAgPGlucz5UaGF04oCZcyBhbGwgd2Uga25vdy48L2lucz4K",
              "ok": false,
              "headers": [
                [
                  "content-length",
                  "1449"
                ],
                [
                  "content-type",
                  "text/html; charset=utf-8"
                ]
              ],
              "status": 404,
              "status_text": ""
            }
          }
        }
      },
      "source": [
        "q1_save_results(1, 'a', q1_a)"
      ],
      "execution_count": 5,
      "outputs": [
        {
          "output_type": "stream",
          "name": "stderr",
          "text": [
            "/usr/local/lib/python3.7/dist-packages/ipykernel_launcher.py:25: UserWarning: Implicit dimension choice for softmax has been deprecated. Change the call to include dim=X as an argument.\n"
          ]
        },
        {
          "output_type": "error",
          "ename": "TypeError",
          "evalue": "ignored",
          "traceback": [
            "\u001b[0;31m---------------------------------------------------------------------------\u001b[0m",
            "\u001b[0;31mTypeError\u001b[0m                                 Traceback (most recent call last)",
            "\u001b[0;32m<ipython-input-5-67ccf1300388>\u001b[0m in \u001b[0;36m<module>\u001b[0;34m\u001b[0m\n\u001b[0;32m----> 1\u001b[0;31m \u001b[0mq1_save_results\u001b[0m\u001b[0;34m(\u001b[0m\u001b[0;36m1\u001b[0m\u001b[0;34m,\u001b[0m \u001b[0;34m'a'\u001b[0m\u001b[0;34m,\u001b[0m \u001b[0mq1_a\u001b[0m\u001b[0;34m)\u001b[0m\u001b[0;34m\u001b[0m\u001b[0;34m\u001b[0m\u001b[0m\n\u001b[0m",
            "\u001b[0;32m/usr/local/lib/python3.7/dist-packages/deepul/hw1_helper.py\u001b[0m in \u001b[0;36mq1_save_results\u001b[0;34m(dset_type, part, fn)\u001b[0m\n\u001b[1;32m     55\u001b[0m         \u001b[0;32mraise\u001b[0m \u001b[0mException\u001b[0m\u001b[0;34m(\u001b[0m\u001b[0;34m'Invalid dset_type:'\u001b[0m\u001b[0;34m,\u001b[0m \u001b[0mdset_type\u001b[0m\u001b[0;34m)\u001b[0m\u001b[0;34m\u001b[0m\u001b[0;34m\u001b[0m\u001b[0m\n\u001b[1;32m     56\u001b[0m \u001b[0;34m\u001b[0m\u001b[0m\n\u001b[0;32m---> 57\u001b[0;31m     \u001b[0mtrain_losses\u001b[0m\u001b[0;34m,\u001b[0m \u001b[0mtest_losses\u001b[0m\u001b[0;34m,\u001b[0m \u001b[0mdistribution\u001b[0m \u001b[0;34m=\u001b[0m \u001b[0mfn\u001b[0m\u001b[0;34m(\u001b[0m\u001b[0mtrain_data\u001b[0m\u001b[0;34m,\u001b[0m \u001b[0mtest_data\u001b[0m\u001b[0;34m,\u001b[0m \u001b[0md\u001b[0m\u001b[0;34m,\u001b[0m \u001b[0mdset_type\u001b[0m\u001b[0;34m)\u001b[0m\u001b[0;34m\u001b[0m\u001b[0;34m\u001b[0m\u001b[0m\n\u001b[0m\u001b[1;32m     58\u001b[0m     \u001b[0;32massert\u001b[0m \u001b[0mnp\u001b[0m\u001b[0;34m.\u001b[0m\u001b[0mallclose\u001b[0m\u001b[0;34m(\u001b[0m\u001b[0mnp\u001b[0m\u001b[0;34m.\u001b[0m\u001b[0msum\u001b[0m\u001b[0;34m(\u001b[0m\u001b[0mdistribution\u001b[0m\u001b[0;34m)\u001b[0m\u001b[0;34m,\u001b[0m \u001b[0;36m1\u001b[0m\u001b[0;34m)\u001b[0m\u001b[0;34m,\u001b[0m \u001b[0;34mf'Distribution sums to {np.sum(distribution)} != 1'\u001b[0m\u001b[0;34m\u001b[0m\u001b[0;34m\u001b[0m\u001b[0m\n\u001b[1;32m     59\u001b[0m \u001b[0;34m\u001b[0m\u001b[0m\n",
            "\u001b[0;32m<ipython-input-4-5827ab8b3605>\u001b[0m in \u001b[0;36mq1_a\u001b[0;34m(train_data, test_data, d, dset_id)\u001b[0m\n\u001b[1;32m     40\u001b[0m   \u001b[0;31m# init output\u001b[0m\u001b[0;34m\u001b[0m\u001b[0;34m\u001b[0m\u001b[0;34m\u001b[0m\u001b[0m\n\u001b[1;32m     41\u001b[0m   \u001b[0mlosses\u001b[0m \u001b[0;34m=\u001b[0m \u001b[0;34m[\u001b[0m\u001b[0;34m]\u001b[0m\u001b[0;34m\u001b[0m\u001b[0;34m\u001b[0m\u001b[0m\n\u001b[0;32m---> 42\u001b[0;31m   \u001b[0mtest_losses\u001b[0m \u001b[0;34m=\u001b[0m \u001b[0;34m[\u001b[0m\u001b[0mmodel\u001b[0m\u001b[0;34m(\u001b[0m\u001b[0mtorch\u001b[0m\u001b[0;34m.\u001b[0m\u001b[0mfrom_numpy\u001b[0m\u001b[0;34m(\u001b[0m\u001b[0mtest_data\u001b[0m\u001b[0;34m)\u001b[0m\u001b[0;34m.\u001b[0m\u001b[0mto\u001b[0m\u001b[0;34m(\u001b[0m\u001b[0mdevice\u001b[0m\u001b[0;34m)\u001b[0m\u001b[0;34m)\u001b[0m\u001b[0;34m.\u001b[0m\u001b[0mdetach\u001b[0m\u001b[0;34m(\u001b[0m\u001b[0;34m)\u001b[0m\u001b[0;34m.\u001b[0m\u001b[0mnumpy\u001b[0m\u001b[0;34m(\u001b[0m\u001b[0;34m)\u001b[0m\u001b[0;34m.\u001b[0m\u001b[0mitem\u001b[0m\u001b[0;34m(\u001b[0m\u001b[0;34m)\u001b[0m\u001b[0;34m]\u001b[0m\u001b[0;34m\u001b[0m\u001b[0;34m\u001b[0m\u001b[0m\n\u001b[0m\u001b[1;32m     43\u001b[0m \u001b[0;34m\u001b[0m\u001b[0m\n\u001b[1;32m     44\u001b[0m   \u001b[0;31m# traning model\u001b[0m\u001b[0;34m\u001b[0m\u001b[0;34m\u001b[0m\u001b[0;34m\u001b[0m\u001b[0m\n",
            "\u001b[0;31mTypeError\u001b[0m: can't convert cuda:0 device type tensor to numpy. Use Tensor.cpu() to copy the tensor to host memory first."
          ]
        }
      ]
    },
    {
      "cell_type": "code",
      "metadata": {
        "id": "sJVOUEaaZXcA"
      },
      "source": [
        "q1_save_results(2, 'a', q1_a)"
      ],
      "execution_count": null,
      "outputs": []
    },
    {
      "cell_type": "markdown",
      "metadata": {
        "id": "DiyFXlj0rfcr"
      },
      "source": [
        "## Part (b) Fitting Discretized Mixture of Logistics\n",
        "\n",
        "Let us model $p_\\theta(x)$ as a **discretized** mixture of 4 logistics such that $p_\\theta(x) = \\sum_{i=1}^4 \\pi_i[\\sigma((x+0.5 - \\mu_i)/s_i) - \\sigma((x-0.5-\\mu_i)/s_i)]$\n",
        "\n",
        "For the edge case of when $x = 0$, we replace $x-0.5$ by $-\\infty$, and for $x = d-1$, we replace $x+0.5$ by $\\infty$.\n",
        "\n",
        "You may find the [PixelCNN++](https://arxiv.org/abs/1701.05517) helpful for more information on discretized mixture of logistics.\n",
        "\n",
        "**Provide the same set of corresponding deliverables as part (a)**"
      ]
    },
    {
      "cell_type": "markdown",
      "metadata": {
        "id": "f4dnQIg_TDx6"
      },
      "source": [
        "### Solution\n",
        "Fill out the function below and return the necessary arguments. Feel free to create more cells if need be."
      ]
    },
    {
      "cell_type": "code",
      "metadata": {
        "id": "uAvMQDJJrjNo"
      },
      "source": [
        "class logistics(nn.Module):\n",
        "  def __init__(self, d, param=4):\n",
        "    super(logistics, self).__init__()\n",
        "    self.d = d\n",
        "    self.param = param\n",
        "    self.high = torch.range(1,d)+0.5-int(d/2)\n",
        "    self.high = self.high[None, :]\n",
        "    self.low = torch.range(1,d)-0.5-int(d/2)\n",
        "    self.low = self.low[None, :]\n",
        "    self.shift = torch.nn.parameter.Parameter(100*torch.random.torch.torch.rand(self.param, 1))\n",
        "    self.scale = torch.nn.parameter.Parameter(torch.random.torch.torch.rand(self.param, 1)-1)\n",
        "    self.weight = torch.nn.parameter.Parameter(torch.random.torch.torch.rand(self.param, 1))\n",
        "\n",
        "  def forward(self, x):\n",
        "    likelyhood = self.p[x]\n",
        "    loss = -torch.mean(torch.log(likelyhood))\n",
        "    return loss\n",
        "  @property\n",
        "  def p(self):\n",
        "    d_inidividual_p = torch.sigmoid((self.high-self.shift)*torch.nn.functional.softplus(self.scale)) - torch.sigmoid((self.low-self.shift)*torch.nn.functional.softplus(self.scale)) + 1e-10\n",
        "    d_inidividual_p[:,0] = torch.sigmoid((self.high-self.shift)*torch.nn.functional.softplus(self.scale))[:,0] + 1e-10\n",
        "    d_inidividual_p[:,-1] = 1-torch.sigmoid((self.low-self.shift)*torch.nn.functional.softplus(self.scale))[:,-1] + 1e-10\n",
        "    p = torch.sum(torch.nn.functional.softmax(self.weight, dim=0)*d_inidividual_p, axis=0)\n",
        "    return p\n",
        "\n",
        "\n",
        "def q1_b(train_data, test_data, d, dset_id):\n",
        "  \"\"\"\n",
        "  train_data: An (n_train,) numpy array of integers in {0, ..., d-1}\n",
        "  test_data: An (n_test,) numpy array of integers in {0, .., d-1}\n",
        "  d: The number of possible discrete values for random variable x\n",
        "  dset_id: An identifying number of which dataset is given (1 or 2). Most likely\n",
        "           used to set different hyperparameters for different datasets\n",
        "\n",
        "  Returns\n",
        "  - a (# of training iterations,) numpy array of train_losses evaluated every minibatch\n",
        "  - a (# of epochs + 1,) numpy array of test_losses evaluated once at initialization and after each epoch\n",
        "  - a numpy array of size (d,) of model probabilities\n",
        "  \"\"\"\n",
        "  # prepare data, model and optimizer \n",
        "  model = logistics(d, 4).to(device)\n",
        "  optimizer = optim.Adam(model.parameters(), lr=0.1)\n",
        "  # init output\n",
        "  losses = []\n",
        "  test_losses = [model(torch.from_numpy(test_data).to(device)).detach().numpy().item()]\n",
        "\n",
        "  # traning model\n",
        "  model.train()\n",
        "  if dset_id == 1:\n",
        "    iteration = 10\n",
        "  else:\n",
        "    iteration = 1000\n",
        "  for iter in tqdm(range(iteration)):\n",
        "    batch = np.random.choice(train_data,128)\n",
        "    optimizer.zero_grad()\n",
        "    loss = model(torch.from_numpy(batch).to(device))\n",
        "    losses.append(loss.detach().numpy().item())\n",
        "    test_losses.append(model(test_data).detach().numpy().item())\n",
        "    loss.backward()\n",
        "    optimizer.step()\n",
        "  return losses, test_losses, model.p.detach().numpy()\n",
        "  \"\"\" YOUR CODE HERE \"\"\""
      ],
      "execution_count": null,
      "outputs": []
    },
    {
      "cell_type": "markdown",
      "metadata": {
        "id": "VwZyhlewTHH4"
      },
      "source": [
        "### Results\n",
        "\n",
        "Once you've implemented `q1_b`, execute the cells below to visualize and save your results\n",
        "\n"
      ]
    },
    {
      "cell_type": "code",
      "metadata": {
        "id": "wnnQORaG6Ouf"
      },
      "source": [
        "q1_save_results(1, 'b', q1_b)"
      ],
      "execution_count": null,
      "outputs": []
    },
    {
      "cell_type": "code",
      "metadata": {
        "id": "1jLGoDa46RM6"
      },
      "source": [
        "q1_save_results(2, 'b', q1_b)"
      ],
      "execution_count": null,
      "outputs": []
    },
    {
      "cell_type": "markdown",
      "metadata": {
        "id": "bk6l6G30tEIg"
      },
      "source": [
        "# Question 2: MADE\n",
        "\n",
        "In this question, you will implement [MADE](https://arxiv.org/abs/1502.03509). In the first part, you will use MADE to model a simple 2D joint distribution, and in the second half, you will train MADE on image datasets."
      ]
    },
    {
      "cell_type": "markdown",
      "metadata": {
        "id": "ZkQMNxln-UxX"
      },
      "source": [
        "## Part (a) Fitting 2D Data\n",
        "\n",
        "First, you will work with bivariate data of the form $x = (x_0,x_1)$, where $x_0, x_1 \\in \\{0, \\dots, d\\}$. We can easily visualize a 2D dataset by plotting a 2D histogram. Run the cell below to visualize our datasets."
      ]
    },
    {
      "cell_type": "code",
      "metadata": {
        "id": "alF9C1t-tEys"
      },
      "source": [
        "visualize_q2a_data(dset_type=1)\n",
        "visualize_q2a_data(dset_type=2)"
      ],
      "execution_count": null,
      "outputs": []
    },
    {
      "cell_type": "markdown",
      "metadata": {
        "id": "sDywq5JZR4Eg"
      },
      "source": [
        "Implement and train a MADE model through maximum likelihood to represent $p(x_0, x_1)$ on the given datasets, with any autoregressive ordering of your choosing. \n",
        "\n",
        "A few notes:\n",
        "* You do not need to do training with multiple masks\n",
        "* You made find it useful to one-hot encode your inputs. \n",
        "\n",
        "**You will provide these deliverables**\n",
        "\n",
        "\n",
        "1.   Over the course of training, record the average negative log-likelihood (nats / dim) of the training data (per minibatch) and test data (for your entire test set). Code is provided that automatically plots the training curves. \n",
        "2.   Report the final test set performance of your final model\n",
        "3. Visualize the learned 2D distribution by plotting a 2D heatmap\n"
      ]
    },
    {
      "cell_type": "markdown",
      "metadata": {
        "id": "fHHxHqSJTSAa"
      },
      "source": [
        "### Solution\n",
        "Fill out the function below and return the necessary arguments. Feel free to create more cells if need be."
      ]
    },
    {
      "cell_type": "code",
      "metadata": {
        "id": "wtFZU2ymB6_t"
      },
      "source": [
        "import numpy as np\n",
        "import random\n",
        "import torch\n",
        "import torch.nn as nn\n",
        "import torch.optim as optim\n",
        "from tqdm import tqdm\n",
        "\n",
        "device = torch.device(\"cuda:0\" if torch.cuda.is_available() else \"cpu\")\n",
        "if torch.cuda.is_available():\n",
        "  print(\"GPU available, use GPU. :) \")\n",
        "else:\n",
        "  print(\"use CPU. :( \") \n",
        "class histo2(nn.Module):\n",
        "  def __init__(self, d):\n",
        "    super(histo2, self).__init__()\n",
        "    self.d = d\n",
        "    self.theta = torch.nn.parameter.Parameter(torch.zeros([self.d, self.d]))\n",
        "\n",
        "  def forward(self, x):\n",
        "    likelyhood = self.p[x[:,0],x[:,1]]\n",
        "    loss = -torch.mean(torch.mean(torch.log(likelyhood)))\n",
        "    return loss\n",
        "    \n",
        "  @property\n",
        "  def p(self):\n",
        "    p = torch.exp(self.theta)/torch.sum(torch.exp(self.theta))\n",
        "    return p\n",
        "\n",
        "def q2_a(train_data, test_data, d, dset_id):\n",
        "  \"\"\"\n",
        "  train_data: An (n_train, 2) numpy array of integers in {0, ..., d-1}\n",
        "  test_data: An (n_test, 2) numpy array of integers in {0, .., d-1}\n",
        "  d: The number of possible discrete values for each random variable x1 and x2\n",
        "  dset_id: An identifying number of which dataset is given (1 or 2). Most likely\n",
        "           used to set different hyperparameters for different datasets\n",
        "\n",
        "  Returns\n",
        "  - a (# of training iterations,) numpy array of train_losses evaluated every minibatch\n",
        "  - a (# of epochs + 1,) numpy array of test_losses evaluated once at initialization and after each epoch\n",
        "  - a numpy array of size (d, d) of probabilities (the learned joint distribution)\n",
        "  \"\"\"\n",
        "  # prepare data, model and optimizer \n",
        "  model = histo2(d).to(device)\n",
        "  optimizer = optim.Adadelta(model.parameters(), lr=0.1)\n",
        "  # init output\n",
        "  losses = []\n",
        "  test_losses = [model(torch.from_numpy(test_data).to(device)).detach().numpy().item()]\n",
        "\n",
        "  # traning model\n",
        "  model.train()\n",
        "  if dset_id == 1:\n",
        "    iteration = 1000\n",
        "  else:\n",
        "    iteration = 2000\n",
        "  for iter in tqdm(range(iteration)):\n",
        "    sample_idx_in_batch = np.random.choice(np.arange(train_data.shape[0]),20)\n",
        "    batch = train_data[sample_idx_in_batch,:]\n",
        "    model.train()\n",
        "    optimizer.zero_grad()\n",
        "    loss = model(torch.from_numpy(batch).to(device))\n",
        "    losses.append(loss.detach().numpy().item())\n",
        "    loss.backward()\n",
        "    optimizer.step()\n",
        "    model.eval()\n",
        "    test_losses.append(model(test_data).detach().numpy().item())\n",
        "  return losses, test_losses, model.p.detach().numpy()\n",
        "  \"\"\" YOUR CODE HERE \"\"\""
      ],
      "execution_count": null,
      "outputs": []
    },
    {
      "cell_type": "markdown",
      "metadata": {
        "id": "Iso12bj4Tup8"
      },
      "source": [
        "### Results\n",
        "\n",
        "Once you've implemented `q2_a`, execute the cells below to visualize and save your results\n",
        "\n"
      ]
    },
    {
      "cell_type": "code",
      "metadata": {
        "id": "njfGrZ74Jm2d"
      },
      "source": [
        "q2_save_results(1, 'a', q2_a)"
      ],
      "execution_count": null,
      "outputs": []
    },
    {
      "cell_type": "code",
      "metadata": {
        "id": "o6-NJJnIJoX6"
      },
      "source": [
        "q2_save_results(2, 'a', q2_a)"
      ],
      "execution_count": null,
      "outputs": []
    },
    {
      "cell_type": "markdown",
      "metadata": {
        "id": "G4HezJRtW7H2"
      },
      "source": [
        "## Part (b) Shapes and MNIST\n",
        "Now, we will work with a higher dimensional datasets, namely a shape dataset and MNIST. Run the cell below to visualize the two datasets"
      ]
    },
    {
      "cell_type": "code",
      "metadata": {
        "id": "F81U6yR1UUVq"
      },
      "source": [
        "visualize_q2b_data(1)\n",
        "visualize_q2b_data(2)"
      ],
      "execution_count": null,
      "outputs": []
    },
    {
      "cell_type": "markdown",
      "metadata": {
        "id": "qrJPvrYhUZYO"
      },
      "source": [
        "Implement and train a MADE model on the given binary image datasets. Given some binary image of height $H$ and width $W$, we can represent image $x\\in \\{0, 1\\}^{H\\times W}$ as a flattened binary vector $x\\in \\{0, 1\\}^{HW}$ to input into MADE to model $p_\\theta(x) = \\prod_{i=1}^{HW} p_\\theta(x_i|x_{<i})$. Your model should output logits, after which you could apply a sigmoid over 1 logit, or a softmax over two logits (either is fine).\n",
        "\n",
        "**You will provide these deliverables**\n",
        "\n",
        "\n",
        "1.   Over the course of training, record the average negative log-likelihood (nats / dim) of the training data (per minibatch) and test data (for your entire test set). Code is provided that automatically plots the training curves. \n",
        "2.   Report the final test set performance of your final model\n",
        "3. 100 samples from the final trained model"
      ]
    },
    {
      "cell_type": "markdown",
      "metadata": {
        "id": "uEgF3FCXV8zb"
      },
      "source": [
        "### Solution\n",
        "Fill out the function below and return the necessary arguments. Feel free to create more cells if need be."
      ]
    },
    {
      "cell_type": "code",
      "metadata": {
        "id": "WHLjAxjRVx_S",
        "colab": {
          "base_uri": "https://localhost:8080/"
        },
        "outputId": "75b6fa40-f1da-46c5-f2e3-50039e6981fa"
      },
      "source": [
        "from re import X\n",
        "import numpy as np\n",
        "import random\n",
        "import torch\n",
        "import torch.nn as nn\n",
        "import torch.optim as optim\n",
        "from tqdm import tqdm\n",
        "\n",
        "device = torch.device(\"cuda:0\" if torch.cuda.is_available() else \"cpu\")\n",
        "if torch.cuda.is_available():\n",
        "  print(\"GPU available, use GPU. :) \")\n",
        "else:\n",
        "  print(\"use CPU. :( \") \n",
        "\n",
        "class typeAB(nn.Module):\n",
        "  def __init__(self, length, type='A', activation=torch.nn.LeakyReLU(0.1)):\n",
        "    super(typeAB, self).__init__()\n",
        "    assert type in ['A', 'B']\n",
        "    self.type = type\n",
        "    self.length = length\n",
        "    self.activation = activation\n",
        "    self.params = torch.nn.Parameter(torch.zeros([self.length, self.length]))\n",
        "    self.bias = torch.nn.Parameter(torch.zeros([1, self.length]))\n",
        "    torch.nn.init.xavier_uniform(self.params)\n",
        "    torch.nn.init.xavier_uniform(self.bias)\n",
        "  \n",
        "  def forward(self, x):\n",
        "    if self.type=='A':\n",
        "      x_res = x\n",
        "      x = torch.mm(x, torch.triu(self.params, diagonal=1))+self.bias\n",
        "      x = self.activation(x)\n",
        "      x = x + x_res\n",
        "      return x\n",
        "    elif self.type=='B':\n",
        "      x_res = x\n",
        "      x = torch.mm(x, torch.triu(self.params))+self.bias\n",
        "      x = self.activation(x)\n",
        "      x = x + x_res\n",
        "      return x\n",
        "\n",
        "\n",
        "class MAKE(nn.Module):\n",
        "  def __init__(self, H, W, d=2, layers=4, activation=torch.nn.LeakyReLU):\n",
        "    super(MAKE, self).__init__()\n",
        "    assert layers>=1, \"layer should be larger than 1\"\n",
        "    self.d = d\n",
        "    self.start = torch.nn.Parameter(torch.zeros([1]).float())\n",
        "    self.H = H\n",
        "    self.W = W\n",
        "    cond_network_architecture = nn.ModuleList([typeAB(H*W,type='A')])\n",
        "    for i in range(layers-2):\n",
        "      # cond_network_architecture.append(activation())\n",
        "      cond_network_architecture.append(typeAB(H*W,type='B'))\n",
        "    cond_network_architecture.append(typeAB(H*W,type='B',activation=torch.nn.Identity()))\n",
        "    cond_network_architecture.append(torch.nn.Sigmoid())\n",
        "    self.cond_network = nn.Sequential(*cond_network_architecture)\n",
        "    \n",
        "  def forward(self, x):\n",
        "    shape = x.shape\n",
        "    x = x.reshape(shape[0],shape[1]*shape[2]*shape[3])\n",
        "    likelyhood = self.cond_network(x.float())\n",
        "    likelyhood_start = torch.sigmoid(self.start[0])*x[:,0] + (1-torch.sigmoid(self.start[0]))*(1-x[:,0])\n",
        "    likelyhood_center = likelyhood[:,1:-1]*x[:,1:-1] + (1-likelyhood[:,1:-1])*(1-x[:,1:-1])\n",
        "    loss = -torch.mean(torch.mean(torch.log(torch.cat((likelyhood_start[:,None], likelyhood_center), 1))))\n",
        "    return loss\n",
        "  \n",
        "def generate(model, n):\n",
        "  retval = torch.zeros(n, model.H*model.W)\n",
        "  retval[:,0] = torch.sigmoid(model.start[0])\n",
        "  retval[:,0] = torch.bernoulli(retval[:,0])\n",
        "  retval = retval.to(device)\n",
        "  for i in range(1, model.H*model.W):\n",
        "    retval_tmp = model.cond_network(retval.to(device))\n",
        "    retval[:,i] = torch.bernoulli(retval_tmp[:,i])\n",
        "  return retval.reshape(n, model.H, model.W, 1)\n",
        "    \n",
        "  \n",
        "\n",
        "\n",
        "def q2_b(train_data, test_data, image_shape, dset_id):\n",
        "  \"\"\"\n",
        "  train_data: A (n_train, H, W, 1) uint8 numpy array of binary images with values in {0, 1}\n",
        "  test_data: An (n_test, H, W, 1) uint8 numpy array of binary images with values in {0, 1}\n",
        "  image_shape: (H, W), height and width of the image\n",
        "  dset_id: An identifying number of which dataset is given (1 or 2). Most likely\n",
        "           used to set different hyperparameters for different datasets\n",
        "\n",
        "  Returns\n",
        "  - a (# of training iterations,) numpy array of train_losses evaluated every minibatch\n",
        "  - a (# of epochs + 1,) numpy array of test_losses evaluated once at initialization and after each epoch\n",
        "  - a numpy array of size (100, H, W, 1) of samples with values in {0, 1}\n",
        "  \"\"\"\n",
        "  # prepare data, model and optimizer \n",
        "  n, H, W, _ = train_data.shape\n",
        "  print(test_data.shape[0])\n",
        "  model = MAKE(H,W,2,10).to(device)\n",
        "  optimizer = optim.Adadelta(model.parameters(), lr=0.1)\n",
        "  # init output\n",
        "  losses = []\n",
        "  test_losses = [model(torch.from_numpy(test_data).to(device)).cpu().detach().numpy().item()]\n",
        "\n",
        "  # traning model\n",
        "  model.train()\n",
        "  if dset_id == 1:\n",
        "    iteration = 10000\n",
        "  else:\n",
        "    iteration = 100000\n",
        "  for iter in tqdm(range(iteration)):\n",
        "    sample_idx_in_batch = np.random.choice(np.arange(train_data.shape[0]),50)\n",
        "    batch = train_data[sample_idx_in_batch,:,:,:]\n",
        "    optimizer.zero_grad()\n",
        "    model.train()\n",
        "    loss = model(torch.from_numpy(batch).to(device))\n",
        "    sample_idx_in_test = np.random.choice(np.arange(test_data.shape[0]),5)\n",
        "    loss.backward()\n",
        "    optimizer.step()\n",
        "    model.eval()\n",
        "    if iter%500==0:\n",
        "      losses.append(loss.cpu().detach().numpy().item())\n",
        "      test_losses.append(model(torch.from_numpy(test_data[sample_idx_in_test,:,:,:]).to(device)).cpu().detach().numpy().item())\n",
        "  return losses, test_losses, generate(model,10).cpu().detach().numpy()\n",
        "  \"\"\" YOUR CODE HERE \"\"\""
      ],
      "execution_count": 6,
      "outputs": [
        {
          "output_type": "stream",
          "name": "stdout",
          "text": [
            "GPU available, use GPU. :) \n"
          ]
        }
      ]
    },
    {
      "cell_type": "code",
      "source": [],
      "metadata": {
        "id": "ykqmqvYZcYHw"
      },
      "execution_count": null,
      "outputs": []
    },
    {
      "cell_type": "markdown",
      "metadata": {
        "id": "iBfCSKFnV-Mz"
      },
      "source": [
        "### Results\n",
        "\n",
        "Once you've implemented `q2_b`, execute the cells below to visualize and save your results\n",
        "\n"
      ]
    },
    {
      "cell_type": "code",
      "metadata": {
        "id": "frAYhilEwG2x",
        "outputId": "11697351-e555-4ebf-a54e-4037bdba2bd5",
        "colab": {
          "base_uri": "https://localhost:8080/",
          "height": 455
        }
      },
      "source": [
        "q2_save_results(1, 'b', q2_b)"
      ],
      "execution_count": 7,
      "outputs": [
        {
          "output_type": "stream",
          "name": "stdout",
          "text": [
            "4491\n"
          ]
        },
        {
          "output_type": "stream",
          "name": "stderr",
          "text": [
            "/usr/local/lib/python3.7/dist-packages/ipykernel_launcher.py:24: UserWarning: nn.init.xavier_uniform is now deprecated in favor of nn.init.xavier_uniform_.\n",
            "/usr/local/lib/python3.7/dist-packages/ipykernel_launcher.py:25: UserWarning: nn.init.xavier_uniform is now deprecated in favor of nn.init.xavier_uniform_.\n",
            "100%|██████████| 10000/10000 [01:01<00:00, 161.59it/s]\n"
          ]
        },
        {
          "output_type": "error",
          "ename": "RuntimeError",
          "evalue": "ignored",
          "traceback": [
            "\u001b[0;31m---------------------------------------------------------------------------\u001b[0m",
            "\u001b[0;31mRuntimeError\u001b[0m                              Traceback (most recent call last)",
            "\u001b[0;32m<ipython-input-7-c4c4f4158bb7>\u001b[0m in \u001b[0;36m<module>\u001b[0;34m\u001b[0m\n\u001b[0;32m----> 1\u001b[0;31m \u001b[0mq2_save_results\u001b[0m\u001b[0;34m(\u001b[0m\u001b[0;36m1\u001b[0m\u001b[0;34m,\u001b[0m \u001b[0;34m'b'\u001b[0m\u001b[0;34m,\u001b[0m \u001b[0mq2_b\u001b[0m\u001b[0;34m)\u001b[0m\u001b[0;34m\u001b[0m\u001b[0;34m\u001b[0m\u001b[0m\n\u001b[0m",
            "\u001b[0;32m/usr/local/lib/python3.7/dist-packages/deepul/hw1_helper.py\u001b[0m in \u001b[0;36mq2_save_results\u001b[0;34m(dset_type, part, fn)\u001b[0m\n\u001b[1;32m    176\u001b[0m                              f'results/q2_{part}_dset{dset_type}_learned_dist.png')\n\u001b[1;32m    177\u001b[0m     \u001b[0;32melif\u001b[0m \u001b[0mpart\u001b[0m \u001b[0;34m==\u001b[0m \u001b[0;34m'b'\u001b[0m\u001b[0;34m:\u001b[0m\u001b[0;34m\u001b[0m\u001b[0;34m\u001b[0m\u001b[0m\n\u001b[0;32m--> 178\u001b[0;31m         \u001b[0mtrain_losses\u001b[0m\u001b[0;34m,\u001b[0m \u001b[0mtest_losses\u001b[0m\u001b[0;34m,\u001b[0m \u001b[0msamples\u001b[0m \u001b[0;34m=\u001b[0m \u001b[0mfn\u001b[0m\u001b[0;34m(\u001b[0m\u001b[0mtrain_data\u001b[0m\u001b[0;34m,\u001b[0m \u001b[0mtest_data\u001b[0m\u001b[0;34m,\u001b[0m \u001b[0mimg_shape\u001b[0m\u001b[0;34m,\u001b[0m \u001b[0mdset_type\u001b[0m\u001b[0;34m)\u001b[0m\u001b[0;34m\u001b[0m\u001b[0;34m\u001b[0m\u001b[0m\n\u001b[0m\u001b[1;32m    179\u001b[0m         \u001b[0msamples\u001b[0m \u001b[0;34m=\u001b[0m \u001b[0msamples\u001b[0m\u001b[0;34m.\u001b[0m\u001b[0mastype\u001b[0m\u001b[0;34m(\u001b[0m\u001b[0;34m'float32'\u001b[0m\u001b[0;34m)\u001b[0m \u001b[0;34m*\u001b[0m \u001b[0;36m255\u001b[0m\u001b[0;34m\u001b[0m\u001b[0;34m\u001b[0m\u001b[0m\n\u001b[1;32m    180\u001b[0m         \u001b[0mprint\u001b[0m\u001b[0;34m(\u001b[0m\u001b[0;34mf'Final Test Loss: {test_losses[-1]:.4f}'\u001b[0m\u001b[0;34m)\u001b[0m\u001b[0;34m\u001b[0m\u001b[0;34m\u001b[0m\u001b[0m\n",
            "\u001b[0;32m<ipython-input-6-568443d9cae3>\u001b[0m in \u001b[0;36mq2_b\u001b[0;34m(train_data, test_data, image_shape, dset_id)\u001b[0m\n\u001b[1;32m    119\u001b[0m       \u001b[0mlosses\u001b[0m\u001b[0;34m.\u001b[0m\u001b[0mappend\u001b[0m\u001b[0;34m(\u001b[0m\u001b[0mloss\u001b[0m\u001b[0;34m.\u001b[0m\u001b[0mcpu\u001b[0m\u001b[0;34m(\u001b[0m\u001b[0;34m)\u001b[0m\u001b[0;34m.\u001b[0m\u001b[0mdetach\u001b[0m\u001b[0;34m(\u001b[0m\u001b[0;34m)\u001b[0m\u001b[0;34m.\u001b[0m\u001b[0mnumpy\u001b[0m\u001b[0;34m(\u001b[0m\u001b[0;34m)\u001b[0m\u001b[0;34m.\u001b[0m\u001b[0mitem\u001b[0m\u001b[0;34m(\u001b[0m\u001b[0;34m)\u001b[0m\u001b[0;34m)\u001b[0m\u001b[0;34m\u001b[0m\u001b[0;34m\u001b[0m\u001b[0m\n\u001b[1;32m    120\u001b[0m       \u001b[0mtest_losses\u001b[0m\u001b[0;34m.\u001b[0m\u001b[0mappend\u001b[0m\u001b[0;34m(\u001b[0m\u001b[0mmodel\u001b[0m\u001b[0;34m(\u001b[0m\u001b[0mtorch\u001b[0m\u001b[0;34m.\u001b[0m\u001b[0mfrom_numpy\u001b[0m\u001b[0;34m(\u001b[0m\u001b[0mtest_data\u001b[0m\u001b[0;34m[\u001b[0m\u001b[0msample_idx_in_test\u001b[0m\u001b[0;34m,\u001b[0m\u001b[0;34m:\u001b[0m\u001b[0;34m,\u001b[0m\u001b[0;34m:\u001b[0m\u001b[0;34m,\u001b[0m\u001b[0;34m:\u001b[0m\u001b[0;34m]\u001b[0m\u001b[0;34m)\u001b[0m\u001b[0;34m.\u001b[0m\u001b[0mto\u001b[0m\u001b[0;34m(\u001b[0m\u001b[0mdevice\u001b[0m\u001b[0;34m)\u001b[0m\u001b[0;34m)\u001b[0m\u001b[0;34m.\u001b[0m\u001b[0mcpu\u001b[0m\u001b[0;34m(\u001b[0m\u001b[0;34m)\u001b[0m\u001b[0;34m.\u001b[0m\u001b[0mdetach\u001b[0m\u001b[0;34m(\u001b[0m\u001b[0;34m)\u001b[0m\u001b[0;34m.\u001b[0m\u001b[0mnumpy\u001b[0m\u001b[0;34m(\u001b[0m\u001b[0;34m)\u001b[0m\u001b[0;34m.\u001b[0m\u001b[0mitem\u001b[0m\u001b[0;34m(\u001b[0m\u001b[0;34m)\u001b[0m\u001b[0;34m)\u001b[0m\u001b[0;34m\u001b[0m\u001b[0;34m\u001b[0m\u001b[0m\n\u001b[0;32m--> 121\u001b[0;31m   \u001b[0;32mreturn\u001b[0m \u001b[0mlosses\u001b[0m\u001b[0;34m,\u001b[0m \u001b[0mtest_losses\u001b[0m\u001b[0;34m,\u001b[0m \u001b[0mgenerate\u001b[0m\u001b[0;34m(\u001b[0m\u001b[0mmodel\u001b[0m\u001b[0;34m,\u001b[0m\u001b[0;36m10\u001b[0m\u001b[0;34m)\u001b[0m\u001b[0;34m.\u001b[0m\u001b[0mcpu\u001b[0m\u001b[0;34m(\u001b[0m\u001b[0;34m)\u001b[0m\u001b[0;34m.\u001b[0m\u001b[0mdetach\u001b[0m\u001b[0;34m(\u001b[0m\u001b[0;34m)\u001b[0m\u001b[0;34m.\u001b[0m\u001b[0mnumpy\u001b[0m\u001b[0;34m(\u001b[0m\u001b[0;34m)\u001b[0m\u001b[0;34m\u001b[0m\u001b[0;34m\u001b[0m\u001b[0m\n\u001b[0m\u001b[1;32m    122\u001b[0m   \u001b[0;34m\"\"\" YOUR CODE HERE \"\"\"\u001b[0m\u001b[0;34m\u001b[0m\u001b[0;34m\u001b[0m\u001b[0m\n",
            "\u001b[0;32m<ipython-input-6-568443d9cae3>\u001b[0m in \u001b[0;36mgenerate\u001b[0;34m(model, n)\u001b[0m\n\u001b[1;32m     71\u001b[0m   \u001b[0mretval\u001b[0m \u001b[0;34m=\u001b[0m \u001b[0mretval\u001b[0m\u001b[0;34m.\u001b[0m\u001b[0mto\u001b[0m\u001b[0;34m(\u001b[0m\u001b[0mdevice\u001b[0m\u001b[0;34m)\u001b[0m\u001b[0;34m\u001b[0m\u001b[0;34m\u001b[0m\u001b[0m\n\u001b[1;32m     72\u001b[0m   \u001b[0;32mfor\u001b[0m \u001b[0mi\u001b[0m \u001b[0;32min\u001b[0m \u001b[0mrange\u001b[0m\u001b[0;34m(\u001b[0m\u001b[0;36m1\u001b[0m\u001b[0;34m,\u001b[0m \u001b[0mmodel\u001b[0m\u001b[0;34m.\u001b[0m\u001b[0mH\u001b[0m\u001b[0;34m*\u001b[0m\u001b[0mmodel\u001b[0m\u001b[0;34m.\u001b[0m\u001b[0mW\u001b[0m\u001b[0;34m)\u001b[0m\u001b[0;34m:\u001b[0m\u001b[0;34m\u001b[0m\u001b[0;34m\u001b[0m\u001b[0m\n\u001b[0;32m---> 73\u001b[0;31m     \u001b[0mretval_tmp\u001b[0m \u001b[0;34m=\u001b[0m \u001b[0mmodel\u001b[0m\u001b[0;34m.\u001b[0m\u001b[0mcond_network\u001b[0m\u001b[0;34m(\u001b[0m\u001b[0mretval\u001b[0m\u001b[0;34m.\u001b[0m\u001b[0mto\u001b[0m\u001b[0;34m(\u001b[0m\u001b[0mdevice\u001b[0m\u001b[0;34m)\u001b[0m\u001b[0;34m)\u001b[0m\u001b[0;34m\u001b[0m\u001b[0;34m\u001b[0m\u001b[0m\n\u001b[0m\u001b[1;32m     74\u001b[0m     \u001b[0mretval\u001b[0m\u001b[0;34m[\u001b[0m\u001b[0;34m:\u001b[0m\u001b[0;34m,\u001b[0m\u001b[0mi\u001b[0m\u001b[0;34m]\u001b[0m \u001b[0;34m=\u001b[0m \u001b[0mtorch\u001b[0m\u001b[0;34m.\u001b[0m\u001b[0mbernoulli\u001b[0m\u001b[0;34m(\u001b[0m\u001b[0mretval_tmp\u001b[0m\u001b[0;34m[\u001b[0m\u001b[0;34m:\u001b[0m\u001b[0;34m,\u001b[0m\u001b[0mi\u001b[0m\u001b[0;34m]\u001b[0m\u001b[0;34m)\u001b[0m\u001b[0;34m\u001b[0m\u001b[0;34m\u001b[0m\u001b[0m\n\u001b[1;32m     75\u001b[0m   \u001b[0;32mreturn\u001b[0m \u001b[0mretval\u001b[0m\u001b[0;34m.\u001b[0m\u001b[0mreshape\u001b[0m\u001b[0;34m(\u001b[0m\u001b[0mn\u001b[0m\u001b[0;34m,\u001b[0m \u001b[0mmodel\u001b[0m\u001b[0;34m.\u001b[0m\u001b[0mH\u001b[0m\u001b[0;34m,\u001b[0m \u001b[0mmodel\u001b[0m\u001b[0;34m.\u001b[0m\u001b[0mW\u001b[0m\u001b[0;34m,\u001b[0m \u001b[0;36m1\u001b[0m\u001b[0;34m)\u001b[0m\u001b[0;34m\u001b[0m\u001b[0;34m\u001b[0m\u001b[0m\n",
            "\u001b[0;32m/usr/local/lib/python3.7/dist-packages/torch/nn/modules/module.py\u001b[0m in \u001b[0;36m_call_impl\u001b[0;34m(self, *input, **kwargs)\u001b[0m\n\u001b[1;32m   1128\u001b[0m         if not (self._backward_hooks or self._forward_hooks or self._forward_pre_hooks or _global_backward_hooks\n\u001b[1;32m   1129\u001b[0m                 or _global_forward_hooks or _global_forward_pre_hooks):\n\u001b[0;32m-> 1130\u001b[0;31m             \u001b[0;32mreturn\u001b[0m \u001b[0mforward_call\u001b[0m\u001b[0;34m(\u001b[0m\u001b[0;34m*\u001b[0m\u001b[0minput\u001b[0m\u001b[0;34m,\u001b[0m \u001b[0;34m**\u001b[0m\u001b[0mkwargs\u001b[0m\u001b[0;34m)\u001b[0m\u001b[0;34m\u001b[0m\u001b[0;34m\u001b[0m\u001b[0m\n\u001b[0m\u001b[1;32m   1131\u001b[0m         \u001b[0;31m# Do not call functions when jit is used\u001b[0m\u001b[0;34m\u001b[0m\u001b[0;34m\u001b[0m\u001b[0;34m\u001b[0m\u001b[0m\n\u001b[1;32m   1132\u001b[0m         \u001b[0mfull_backward_hooks\u001b[0m\u001b[0;34m,\u001b[0m \u001b[0mnon_full_backward_hooks\u001b[0m \u001b[0;34m=\u001b[0m \u001b[0;34m[\u001b[0m\u001b[0;34m]\u001b[0m\u001b[0;34m,\u001b[0m \u001b[0;34m[\u001b[0m\u001b[0;34m]\u001b[0m\u001b[0;34m\u001b[0m\u001b[0;34m\u001b[0m\u001b[0m\n",
            "\u001b[0;32m/usr/local/lib/python3.7/dist-packages/torch/nn/modules/container.py\u001b[0m in \u001b[0;36mforward\u001b[0;34m(self, input)\u001b[0m\n\u001b[1;32m    137\u001b[0m     \u001b[0;32mdef\u001b[0m \u001b[0mforward\u001b[0m\u001b[0;34m(\u001b[0m\u001b[0mself\u001b[0m\u001b[0;34m,\u001b[0m \u001b[0minput\u001b[0m\u001b[0;34m)\u001b[0m\u001b[0;34m:\u001b[0m\u001b[0;34m\u001b[0m\u001b[0;34m\u001b[0m\u001b[0m\n\u001b[1;32m    138\u001b[0m         \u001b[0;32mfor\u001b[0m \u001b[0mmodule\u001b[0m \u001b[0;32min\u001b[0m \u001b[0mself\u001b[0m\u001b[0;34m:\u001b[0m\u001b[0;34m\u001b[0m\u001b[0;34m\u001b[0m\u001b[0m\n\u001b[0;32m--> 139\u001b[0;31m             \u001b[0minput\u001b[0m \u001b[0;34m=\u001b[0m \u001b[0mmodule\u001b[0m\u001b[0;34m(\u001b[0m\u001b[0minput\u001b[0m\u001b[0;34m)\u001b[0m\u001b[0;34m\u001b[0m\u001b[0;34m\u001b[0m\u001b[0m\n\u001b[0m\u001b[1;32m    140\u001b[0m         \u001b[0;32mreturn\u001b[0m \u001b[0minput\u001b[0m\u001b[0;34m\u001b[0m\u001b[0;34m\u001b[0m\u001b[0m\n\u001b[1;32m    141\u001b[0m \u001b[0;34m\u001b[0m\u001b[0m\n",
            "\u001b[0;32m/usr/local/lib/python3.7/dist-packages/torch/nn/modules/module.py\u001b[0m in \u001b[0;36m_call_impl\u001b[0;34m(self, *input, **kwargs)\u001b[0m\n\u001b[1;32m   1128\u001b[0m         if not (self._backward_hooks or self._forward_hooks or self._forward_pre_hooks or _global_backward_hooks\n\u001b[1;32m   1129\u001b[0m                 or _global_forward_hooks or _global_forward_pre_hooks):\n\u001b[0;32m-> 1130\u001b[0;31m             \u001b[0;32mreturn\u001b[0m \u001b[0mforward_call\u001b[0m\u001b[0;34m(\u001b[0m\u001b[0;34m*\u001b[0m\u001b[0minput\u001b[0m\u001b[0;34m,\u001b[0m \u001b[0;34m**\u001b[0m\u001b[0mkwargs\u001b[0m\u001b[0;34m)\u001b[0m\u001b[0;34m\u001b[0m\u001b[0;34m\u001b[0m\u001b[0m\n\u001b[0m\u001b[1;32m   1131\u001b[0m         \u001b[0;31m# Do not call functions when jit is used\u001b[0m\u001b[0;34m\u001b[0m\u001b[0;34m\u001b[0m\u001b[0;34m\u001b[0m\u001b[0m\n\u001b[1;32m   1132\u001b[0m         \u001b[0mfull_backward_hooks\u001b[0m\u001b[0;34m,\u001b[0m \u001b[0mnon_full_backward_hooks\u001b[0m \u001b[0;34m=\u001b[0m \u001b[0;34m[\u001b[0m\u001b[0;34m]\u001b[0m\u001b[0;34m,\u001b[0m \u001b[0;34m[\u001b[0m\u001b[0;34m]\u001b[0m\u001b[0;34m\u001b[0m\u001b[0;34m\u001b[0m\u001b[0m\n",
            "\u001b[0;32m<ipython-input-6-568443d9cae3>\u001b[0m in \u001b[0;36mforward\u001b[0;34m(self, x)\u001b[0m\n\u001b[1;32m     34\u001b[0m     \u001b[0;32melif\u001b[0m \u001b[0mself\u001b[0m\u001b[0;34m.\u001b[0m\u001b[0mtype\u001b[0m\u001b[0;34m==\u001b[0m\u001b[0;34m'B'\u001b[0m\u001b[0;34m:\u001b[0m\u001b[0;34m\u001b[0m\u001b[0;34m\u001b[0m\u001b[0m\n\u001b[1;32m     35\u001b[0m       \u001b[0mx_res\u001b[0m \u001b[0;34m=\u001b[0m \u001b[0mx\u001b[0m\u001b[0;34m\u001b[0m\u001b[0;34m\u001b[0m\u001b[0m\n\u001b[0;32m---> 36\u001b[0;31m       \u001b[0mx\u001b[0m \u001b[0;34m=\u001b[0m \u001b[0mtorch\u001b[0m\u001b[0;34m.\u001b[0m\u001b[0mmm\u001b[0m\u001b[0;34m(\u001b[0m\u001b[0mx\u001b[0m\u001b[0;34m,\u001b[0m \u001b[0mtorch\u001b[0m\u001b[0;34m.\u001b[0m\u001b[0mtriu\u001b[0m\u001b[0;34m(\u001b[0m\u001b[0mself\u001b[0m\u001b[0;34m.\u001b[0m\u001b[0mparams\u001b[0m\u001b[0;34m)\u001b[0m\u001b[0;34m)\u001b[0m\u001b[0;34m+\u001b[0m\u001b[0mself\u001b[0m\u001b[0;34m.\u001b[0m\u001b[0mbias\u001b[0m\u001b[0;34m\u001b[0m\u001b[0;34m\u001b[0m\u001b[0m\n\u001b[0m\u001b[1;32m     37\u001b[0m       \u001b[0mx\u001b[0m \u001b[0;34m=\u001b[0m \u001b[0mself\u001b[0m\u001b[0;34m.\u001b[0m\u001b[0mactivation\u001b[0m\u001b[0;34m(\u001b[0m\u001b[0mx\u001b[0m\u001b[0;34m)\u001b[0m\u001b[0;34m\u001b[0m\u001b[0;34m\u001b[0m\u001b[0m\n\u001b[1;32m     38\u001b[0m       \u001b[0mx\u001b[0m \u001b[0;34m=\u001b[0m \u001b[0mx\u001b[0m \u001b[0;34m+\u001b[0m \u001b[0mx_res\u001b[0m\u001b[0;34m\u001b[0m\u001b[0;34m\u001b[0m\u001b[0m\n",
            "\u001b[0;31mRuntimeError\u001b[0m: CUDA error: device-side assert triggered\nCUDA kernel errors might be asynchronously reported at some other API call,so the stacktrace below might be incorrect.\nFor debugging consider passing CUDA_LAUNCH_BLOCKING=1."
          ]
        }
      ]
    },
    {
      "cell_type": "code",
      "metadata": {
        "id": "B5nBFeI7wJeN"
      },
      "source": [
        "q2_save_results(2, 'b', q2_b)"
      ],
      "execution_count": null,
      "outputs": []
    },
    {
      "cell_type": "markdown",
      "metadata": {
        "id": "dP8lmmk7Xrct"
      },
      "source": [
        "# Question 3 PixelCNNs"
      ]
    },
    {
      "cell_type": "markdown",
      "metadata": {
        "id": "4wnyhDNqcAcw"
      },
      "source": [
        "Now, you will train more powerful PixleCNN models on the shapes dataset and MNIST. In addition, we will extend to modelling colored datasets with and without channel conditioning.\n",
        "\n"
      ]
    },
    {
      "cell_type": "markdown",
      "metadata": {
        "id": "50WsEzhx4Uua"
      },
      "source": [
        "## Part (a) PixelCNN on Shapes and MNIST\n",
        "In this part, implement a simple PixelCNN architecture to model binary MNIST and shapes images (same as Q2(b), but with a PixelCNN).\n",
        "\n",
        "We recommend the following network design:\n",
        "* A $7 \\times 7$ masked type A convolution\n",
        "* $5$ $7 \\times 7$ masked type B convolutions\n",
        "* $2$ $1 \\times 1$ masked type B convolutions\n",
        "* Appropriate ReLU nonlinearities in-between\n",
        "* 64 convolutional filters\n",
        "\n",
        "And the following hyperparameters:\n",
        "* Batch size 128\n",
        "* Learning rate $10^{-3}$\n",
        "* 10 epochs\n",
        "* Adam Optimizer (this applies to all PixelCNN models trained in future parts)\n",
        "\n",
        "Your model should output logits, after which you could apply a sigmoid over 1 logit, or a softmax over two logits (either is fine). It may also help to scale your input to $[-1, 1]$ before running it through the network. \n",
        "\n",
        "Training on the shapes dataset should be quick, and MNIST should take around 10 minutes\n",
        "\n",
        "**You will provide these deliverables**\n",
        "\n",
        "\n",
        "1.   Over the course of training, record the average negative log-likelihood (nats / dim) of the training data (per minibatch) and test data (for your entire test set). Code is provided that automatically plots the training curves. \n",
        "2.   Report the final test set performance of your final model\n",
        "3. 100 samples from the final trained model\n",
        "\n"
      ]
    },
    {
      "cell_type": "markdown",
      "metadata": {
        "id": "EleefdNuciyc"
      },
      "source": [
        "### Solution\n",
        "Fill out the function below and return the necessary arguments. Feel free to create more cells if need be."
      ]
    },
    {
      "cell_type": "code",
      "metadata": {
        "id": "NWualafa-tpD"
      },
      "source": [
        "def q3_a(train_data, test_data, image_shape, dset_id):\n",
        "  \"\"\"\n",
        "  train_data: A (n_train, H, W, 1) uint8 numpy array of binary images with values in {0, 1}\n",
        "  test_data: A (n_test, H, W, 1) uint8 numpy array of binary images with values in {0, 1}\n",
        "  image_shape: (H, W), height and width of the image\n",
        "  dset_id: An identifying number of which dataset is given (1 or 2). Most likely\n",
        "           used to set different hyperparameters for different datasets\n",
        "\n",
        "  Returns\n",
        "  - a (# of training iterations,) numpy array of train_losses evaluated every minibatch\n",
        "  - a (# of epochs + 1,) numpy array of test_losses evaluated once at initialization and after each epoch\n",
        "  - a numpy array of size (100, H, W, 1) of samples with values in {0, 1}\n",
        "  \"\"\"\n",
        "  \n",
        "  \"\"\" YOUR CODE HERE \"\"\""
      ],
      "execution_count": null,
      "outputs": []
    },
    {
      "cell_type": "markdown",
      "metadata": {
        "id": "v0EPVfz1cpq0"
      },
      "source": [
        "### Results\n",
        "\n",
        "Once you've implemented `q3_a`, execute the cells below to visualize and save your results\n",
        "\n"
      ]
    },
    {
      "cell_type": "code",
      "metadata": {
        "id": "xNxXqVZpAd_V",
        "outputId": "9280e0c4-d8de-408d-e0d6-af0ffa777527",
        "colab": {
          "base_uri": "https://localhost:8080/",
          "height": 577
        }
      },
      "source": [
        "q3a_save_results(1, q3_a)"
      ],
      "execution_count": null,
      "outputs": [
        {
          "output_type": "stream",
          "text": [
            "Final Test Loss: 0.0420\n"
          ],
          "name": "stdout"
        },
        {
          "output_type": "display_data",
          "data": {
            "text/plain": [
              "<Figure size 432x288 with 1 Axes>"
            ],
            "image/png": "[encoded data removed]"
          },
          "metadata": {
            "tags": [],
            "needs_background": "light"
          }
        },
        {
          "output_type": "display_data",
          "data": {
            "text/plain": [
              "<Figure size 432x288 with 1 Axes>"
            ],
            "image/png": "[encoded data removed]"
          },
          "metadata": {
            "tags": [],
            "needs_background": "light"
          }
        }
      ]
    },
    {
      "cell_type": "code",
      "metadata": {
        "id": "OCyQzhJdAfiJ"
      },
      "source": [
        "q3a_save_results(2, q3_a)"
      ],
      "execution_count": null,
      "outputs": []
    },
    {
      "cell_type": "markdown",
      "metadata": {
        "id": "8J7qlqlODNgL"
      },
      "source": [
        "## Part (b) PixelCNN on Colored Shapes and MNIST: Independent Color Channels\n",
        "\n",
        "For the next two parts, we'll work with color images (shapes and MNIST). Run the cell below to visualize the dataset."
      ]
    },
    {
      "cell_type": "code",
      "metadata": {
        "id": "80f_7uZWkDSv"
      },
      "source": [
        "visualize_q3b_data(1)\n",
        "visualize_q3b_data(2)"
      ],
      "execution_count": null,
      "outputs": []
    },
    {
      "cell_type": "markdown",
      "metadata": {
        "id": "3Y6NggR6gmU9"
      },
      "source": [
        "Now, implement a PixelCNN to support RGB color channels (or augment your existing implementation). **First, implement a PixelCNN that assumes color channels as independent.** More formally, we model the following parameterized distribution:\n",
        "\n",
        "$$p_\\theta(x) = \\prod_{i=1}^{HW}\\prod_{c=1}^C p_\\theta(x_i^c | x_{<i})$$\n",
        "\n",
        "Here are some tips that you may find useful for designing and training these models:\n",
        "* You will need a 4-way softmax for every prediction, as opposed to a 256-way softmax in the PixelCNN paper, since the dataset is quantized to two bits per color channel\n",
        "* You can set number of filters for each convolutions to 120. You can use the ReLU nonlinearity throughout.\n",
        "* Use a stack of 8 residual block architecture from [Figure 5](https://arxiv.org/abs/1601.06759) but with 7 x 7 masked convolutions in the middle instead of 3 x 3 masked convolutions\n",
        "* Consider using [layer normalization](https://arxiv.org/abs/1607.06450) to improve performance. However, be careful to maintain the autoregressive property.\n",
        "* With a learning rate of $10^{-3}$ and a batch size of 128, it should take a few minutes to run on the shapes dataset, and about 50-60 minutes on MNIST.\n",
        "\n",
        "**You will provide these deliverables**\n",
        "\n",
        "\n",
        "1.   Over the course of training, record the average negative log-likelihood (nats / dim) of the training data (per minibatch) and test data (for your entire test set). Code is provided that automatically plots the training curves. \n",
        "2.   Report the final test set performance of your final model\n",
        "3. 100 samples from the final trained model\n",
        "\n"
      ]
    },
    {
      "cell_type": "markdown",
      "metadata": {
        "id": "GwJQG9i1iQOa"
      },
      "source": [
        "### Solution\n",
        "Fill out the function below and return the necessary arguments. Feel free to create more cells if need be."
      ]
    },
    {
      "cell_type": "code",
      "metadata": {
        "id": "NE99xTPJDLM7"
      },
      "source": [
        "def q3_b(train_data, test_data, image_shape, dset_id):\n",
        "  \"\"\"\n",
        "  train_data: A (n_train, H, W, C) uint8 numpy array of color images with values in {0, 1, 2, 3}\n",
        "  test_data: A (n_test, H, W, C) uint8 numpy array of color images with values in {0, 1, 2, 3}\n",
        "  image_shape: (H, W, C), height, width, and # of channels of the image\n",
        "  dset_id: An identifying number of which dataset is given (1 or 2). Most likely\n",
        "           used to set different hyperparameters for different datasets\n",
        "\n",
        "  Returns\n",
        "  - a (# of training iterations,) numpy array of train_losses evaluated every minibatch\n",
        "  - a (# of epochs + 1,) numpy array of test_losses evaluated once at initialization and after each epoch\n",
        "  - a numpy array of size (100, H, W, C) of samples with values in {0, 1, 2, 3}\n",
        "  \"\"\"\n",
        "  \n",
        "  \"\"\" YOUR CODE HERE \"\"\""
      ],
      "execution_count": null,
      "outputs": []
    },
    {
      "cell_type": "markdown",
      "metadata": {
        "id": "mGp2OsLKiToN"
      },
      "source": [
        "### Results\n",
        "\n",
        "Once you've implemented `q3_b`, execute the cells below to visualize and save your results\n",
        "\n"
      ]
    },
    {
      "cell_type": "code",
      "metadata": {
        "id": "kW-k-59qJaKN",
        "outputId": "78b08f6a-12db-46b7-ac27-a07693a9cd09",
        "colab": {
          "base_uri": "https://localhost:8080/",
          "height": 577
        }
      },
      "source": [
        "q3bc_save_results(1, 'b', q3_b)"
      ],
      "execution_count": null,
      "outputs": [
        {
          "output_type": "stream",
          "text": [
            "Final Test Loss: 0.0444\n"
          ],
          "name": "stdout"
        },
        {
          "output_type": "display_data",
          "data": {
            "text/plain": [
              "<Figure size 432x288 with 1 Axes>"
            ],
            "image/png": "[encoded data removed]"
          },
          "metadata": {
            "tags": [],
            "needs_background": "light"
          }
        },
        {
          "output_type": "display_data",
          "data": {
            "text/plain": [
              "<Figure size 432x288 with 1 Axes>"
            ],
            "image/png": "[encoded data removed]"
          },
          "metadata": {
            "tags": [],
            "needs_background": "light"
          }
        }
      ]
    },
    {
      "cell_type": "code",
      "metadata": {
        "id": "It_iPXaZjlk0"
      },
      "source": [
        "q3bc_save_results(2, 'b', q3_b)"
      ],
      "execution_count": null,
      "outputs": []
    },
    {
      "cell_type": "markdown",
      "metadata": {
        "id": "HlX23th4JbRy"
      },
      "source": [
        "## Part (c) PixelCNN on Colored Shapes and MNIST: Autoregressive Color Channels\n",
        "\n",
        "Now, implement a PixelCNN that models **dependent** color channels. Formally, we model the parameterized distribution\n",
        "\n",
        "$$p_\\theta(x) = \\prod_{i=1}^{HW}\\prod_{c=1}^C p_\\theta(x_i^c | x_i^{<c}, x_{<i})$$\n",
        "\n",
        "To do so, change your masking scheme for the center pixel. Split the filters into 3 groups, only allowing each group to see the groups before (or including the current group, for type B masks) to maintain the autoregressive property.\n",
        "\n",
        "Training times and hyperparameter settings should be the same as part (b).\n",
        "\n",
        "**You will provide these deliverables**\n",
        "\n",
        "\n",
        "1.   Over the course of training, record the average negative log-likelihood (nats / dim) of the training data (per minibatch) and test data (for your entire test set). Code is provided that automatically plots the training curves. \n",
        "2.   Report the final test set performance of your final model\n",
        "3. 100 samples from the final trained model\n",
        "\n"
      ]
    },
    {
      "cell_type": "markdown",
      "metadata": {
        "id": "_4VvvEJQK3Bb"
      },
      "source": [
        "### Solution\n",
        "Fill out the function below and return the necessary arguments. Feel free to create more cells if need be."
      ]
    },
    {
      "cell_type": "code",
      "metadata": {
        "id": "kqzuSDBUK3dL"
      },
      "source": [
        "def q3_c(train_data, test_data, image_shape, dset_id):\n",
        "  \"\"\"\n",
        "  train_data: A (n_train, H, W, C) uint8 numpy array of color images with values in {0, 1, 2, 3}\n",
        "  test_data: A (n_test, H, W, C) uint8 numpy array of color images with values in {0, 1, 2, 3}\n",
        "  image_shape: (H, W, C), height, width, and # of channels of the image\n",
        "  dset_id: An identifying number of which dataset is given (1 or 2). Most likely\n",
        "           used to set different hyperparameters for different datasets\n",
        "\n",
        "  Returns\n",
        "  - a (# of training iterations,) numpy array of train_losses evaluated every minibatch\n",
        "  - a (# of epochs + 1,) numpy array of test_losses evaluated once at initialization and after each epoch\n",
        "  - a numpy array of size (100, H, W, C) of samples with values in {0, 1, 2, 3}\n",
        "  \"\"\"\n",
        "  \n",
        "  \"\"\" YOUR CODE HERE \"\"\""
      ],
      "execution_count": null,
      "outputs": []
    },
    {
      "cell_type": "markdown",
      "metadata": {
        "id": "UTB-VUBnK321"
      },
      "source": [
        "### Results\n",
        "\n",
        "Once you've implemented `q3_c`, execute the cells below to visualize and save your results\n",
        "\n"
      ]
    },
    {
      "cell_type": "code",
      "metadata": {
        "id": "TXxpdINJK4NU",
        "outputId": "904a8d40-d0e7-40bb-d13b-32c1a49298b2",
        "colab": {
          "base_uri": "https://localhost:8080/",
          "height": 577
        }
      },
      "source": [
        "q3bc_save_results(1, 'c', q3_c)"
      ],
      "execution_count": null,
      "outputs": [
        {
          "output_type": "stream",
          "text": [
            "Final Test Loss: 0.0236\n"
          ],
          "name": "stdout"
        },
        {
          "output_type": "display_data",
          "data": {
            "text/plain": [
              "<Figure size 432x288 with 1 Axes>"
            ],
            "image/png": "[encoded data removed]"
          },
          "metadata": {
            "tags": [],
            "needs_background": "light"
          }
        },
        {
          "output_type": "display_data",
          "data": {
            "text/plain": [
              "<Figure size 432x288 with 1 Axes>"
            ],
            "image/png": "[encoded data removed]"
          },
          "metadata": {
            "tags": [],
            "needs_background": "light"
          }
        }
      ]
    },
    {
      "cell_type": "code",
      "metadata": {
        "id": "Q-Yh9D0G4PxQ"
      },
      "source": [
        "q3bc_save_results(2, 'c', q3_c)"
      ],
      "execution_count": null,
      "outputs": []
    },
    {
      "cell_type": "markdown",
      "metadata": {
        "id": "_IhTtaEXF633"
      },
      "source": [
        "## Part (d) Conditional PixelCNNs\n",
        "\n",
        "In this part, implement and train a **class-conditional** PixelCNN on binary MNIST. Condition on a class label by adding a conditional bias in each convolutional layer. More precisely, in the $\\ell$th convolutional layer, compute: \n",
        "$$W_\\ell * x + b_\\ell + V_\\ell y$$\n",
        "where $W_\\ell * x + b_\\ell$ is a masked convolution (as in previous parts), $V$ is a 2D weight matrix, and $y$ is a one-hot encoding of the class label (where the conditional bias is broadcasted spacially and added channel-wise).\n",
        "\n",
        "You can use a PixelCNN architecture similar to part (a). Training on the shapes dataset should be quick, and MNIST should take around 10-15 minutes\n",
        "\n",
        "\n",
        "**You will provide these deliverables**\n",
        "\n",
        "\n",
        "1.   Over the course of training, record the average negative log-likelihood (nats / dim) of the training data (per minibatch) and test data (for your entire test set). Code is provided that automatically plots the training curves. \n",
        "2.   Report the final test set performance of your final model\n",
        "3. 100 samples from the final trained model"
      ]
    },
    {
      "cell_type": "markdown",
      "metadata": {
        "id": "8U3JwQV1izoA"
      },
      "source": [
        "### Solution\n",
        "Fill out the function below and return the necessary arguments. Feel free to create more cells if need be."
      ]
    },
    {
      "cell_type": "code",
      "metadata": {
        "id": "En2kM8jhF8ri"
      },
      "source": [
        "def q3_d(train_data, train_labels, test_data, test_labels, image_shape, n_classes, dset_id):\n",
        "  \"\"\"\n",
        "  train_data: A (n_train, H, W, 1) numpy array of binary images with values in {0, 1}\n",
        "  train_labels: A (n_train,) numpy array of class labels\n",
        "  test_data: A (n_test, H, W, 1) numpy array of binary images with values in {0, 1}\n",
        "  test_labels: A (n_test,) numpy array of class labels\n",
        "  image_shape: (H, W), height and width\n",
        "  n_classes: number of classes (4 or 10)\n",
        "  dset_id: An identifying number of which dataset is given (1 or 2). Most likely\n",
        "           used to set different hyperparameters for different datasets\n",
        "\n",
        "  Returns\n",
        "  - a (# of training iterations,) numpy array of train_losses evaluated every minibatch\n",
        "  - a (# of epochs + 1,) numpy array of test_losses evaluated once at initialization and after each epoch\n",
        "  - a numpy array of size (100, H, C, 1) of samples with values in {0, 1}\n",
        "    where an even number of images of each class are sampled with 100 total\n",
        "  \"\"\"\n",
        "  \n",
        "  \"\"\" YOUR CODE HERE \"\"\""
      ],
      "execution_count": null,
      "outputs": []
    },
    {
      "cell_type": "markdown",
      "metadata": {
        "id": "LNSDCpfeiY0-"
      },
      "source": [
        "### Results\n",
        "\n",
        "Once you've implemented `q3_d`, execute the cells below to visualize and save your results\n",
        "\n"
      ]
    },
    {
      "cell_type": "code",
      "metadata": {
        "id": "PhonsHCcGC3l",
        "outputId": "a292b409-a20b-4056-c0c0-8d414d6230e6",
        "colab": {
          "base_uri": "https://localhost:8080/",
          "height": 577
        }
      },
      "source": [
        "q3d_save_results(1, q3_d)"
      ],
      "execution_count": null,
      "outputs": [
        {
          "output_type": "stream",
          "text": [
            "Final Test Loss: 0.0368\n"
          ],
          "name": "stdout"
        },
        {
          "output_type": "display_data",
          "data": {
            "text/plain": [
              "<Figure size 432x288 with 1 Axes>"
            ],
            "image/png": "[encoded data removed]"
          },
          "metadata": {
            "tags": [],
            "needs_background": "light"
          }
        },
        {
          "output_type": "display_data",
          "data": {
            "text/plain": [
              "<Figure size 432x288 with 1 Axes>"
            ],
            "image/png": "[encoded data removed]"
          },
          "metadata": {
            "tags": [],
            "needs_background": "light"
          }
        }
      ]
    },
    {
      "cell_type": "code",
      "metadata": {
        "id": "ZtN6ykwn4MQI"
      },
      "source": [
        "q3d_save_results(2, q3_d)"
      ],
      "execution_count": null,
      "outputs": []
    },
    {
      "cell_type": "markdown",
      "metadata": {
        "id": "LMZLcaHwLNNL"
      },
      "source": [
        "# Question 4: Bonus Questions (Optional)"
      ]
    },
    {
      "cell_type": "markdown",
      "metadata": {
        "id": "uZ-DhcsGLTRB"
      },
      "source": [
        "## Part (a) Gated PixelCNN\n",
        "Implement a [Gated PixelCNN](https://arxiv.org/abs/1606.05328) to fix the blind-spot issue, and report training curves, final test loss, and samples."
      ]
    },
    {
      "cell_type": "markdown",
      "metadata": {
        "id": "orP7ESaE5xI8"
      },
      "source": [
        "### Solution\n",
        "Fill out the function below and return the necessary arguments. Feel free to create more cells if need be."
      ]
    },
    {
      "cell_type": "code",
      "metadata": {
        "id": "IlX6Aa6jLOGN"
      },
      "source": [
        "def q4_a(train_data, test_data, image_shape):\n",
        "  \"\"\"\n",
        "  train_data: A (n_train, H, W, C) uint8 numpy array of color images with values in {0, 1, 2, 3}\n",
        "  test_data: A (n_test, H, W, C) uint8 numpy array of color images with values in {0, 1, 2, 3}\n",
        "  image_shape: (H, W, C), height, width, and # of channels of the image\n",
        "\n",
        "  Returns\n",
        "  - a (# of training iterations,) numpy array of train_losses evaluated every minibatch\n",
        "  - a (# of epochs + 1,) numpy array of test_losses evaluated once at initialization and after each epoch\n",
        "  - a numpy array of size (100, H, W, C) of generated samples with values in {0, 1, 2, 3}\n",
        "  \"\"\"\n",
        "  \"\"\" YOUR CODE HERE \"\"\""
      ],
      "execution_count": null,
      "outputs": []
    },
    {
      "cell_type": "markdown",
      "metadata": {
        "id": "AMdpZFJv55k9"
      },
      "source": [
        "### Results\n",
        "\n",
        "Once you've implemented `q4_a`, execute the cells below to visualize and save your results\n",
        "\n"
      ]
    },
    {
      "cell_type": "code",
      "metadata": {
        "id": "zUjIxe2-8v-Q"
      },
      "source": [
        "q4a_save_results(q4_a)"
      ],
      "execution_count": null,
      "outputs": []
    },
    {
      "cell_type": "markdown",
      "metadata": {
        "id": "dwV0spI2Ly0P"
      },
      "source": [
        "## Part (b) Grayscale PixelcNN\n",
        "Train a [Grayscale PixelCNN](https://arxiv.org/abs/1612.08185) on Colored MNIST. You do not need to use their architecture - stacking standard masked convolutions or residual blocks is fine. First, generate a binary image, and then the 2-bit color image."
      ]
    },
    {
      "cell_type": "markdown",
      "metadata": {
        "id": "3DAJGnNv50C2"
      },
      "source": [
        "### Solution\n",
        "Fill out the function below and return the necessary arguments. Feel free to create more cells if need be."
      ]
    },
    {
      "cell_type": "code",
      "metadata": {
        "id": "3Kix-StXL08n"
      },
      "source": [
        "def q4_b(train_data, test_data, image_shape):\n",
        "  \"\"\"\n",
        "  train_data: A (n_train, H, W, C) uint8 numpy array of color images with values in {0, 1, 2, 3}\n",
        "  test_data: A (n_test, H, W, C) uint8 numpy array of color images with values in {0, 1, 2, 3}\n",
        "  image_shape: (H, W, C), height, width, and # of channels of the image\n",
        "\n",
        "  Returns\n",
        "  - a (# of training iterations,) numpy array of train_losses evaluated every minibatch\n",
        "  - a (# of epochs + 1,) numpy array of test_losses evaluated once at initialization and after each epoch\n",
        "  - a numpy array of size (50, H, W, 1) of generated binary images in {0, 1}\n",
        "  - a numpy array of size (50, H, W, C) of conditonally generated color images in {0, 1, 2, 3}\n",
        "  \"\"\"\n",
        "  # You will need to generate the binary image dataset from train_data and test_data\n",
        "  \n",
        "  \"\"\" YOUR CODE HERE \"\"\""
      ],
      "execution_count": null,
      "outputs": []
    },
    {
      "cell_type": "markdown",
      "metadata": {
        "id": "LPOmIqtM585K"
      },
      "source": [
        "### Results\n",
        "\n",
        "Once you've implemented `q4_b`, execute the cells below to visualize and save your results\n",
        "\n"
      ]
    },
    {
      "cell_type": "code",
      "metadata": {
        "id": "iwjE85Ux83kv"
      },
      "source": [
        "q4b_save_results(q4_b)"
      ],
      "execution_count": null,
      "outputs": []
    },
    {
      "cell_type": "markdown",
      "metadata": {
        "id": "7J9F2kFBL-p3"
      },
      "source": [
        "## Part (c) Parallel Multiscale PixelCNN\n",
        "One large disadvantage of autoregressive models is their slow sampling speed, since they require one network evaluation per feature. However, there are existing methods which introduce different independence assumptions to allow for parallelism when sampling. Implement a [Parallel PixelCNN](https://arxiv.org/abs/1703.03664) on 56 x 56 MNIST images, with a base size of 7 x 7 and upscaling by a factor of 2. Sampling should be very quick (< 1s). Architectures may vary, but using small PixelCNN implementation similar to previous parts and small ResNets should suffice"
      ]
    },
    {
      "cell_type": "markdown",
      "metadata": {
        "id": "PfQAN_a051BS"
      },
      "source": [
        "### Solution\n",
        "Fill out the function below and return the necessary arguments. Feel free to create more cells if need be."
      ]
    },
    {
      "cell_type": "code",
      "metadata": {
        "id": "Qa0Sm3GIMA5R"
      },
      "source": [
        "def q4_c(train_data, test_data):\n",
        "  \"\"\"\n",
        "  train_data: A (60000, 56, 56, 1) numpy array of grayscale images with values in {0, 1}\n",
        "  test_data: A (10000, 56, 56, 1) numpy array of grayscale images with values in {0, 1}\n",
        "  image_shape: (H, W), height and width\n",
        "\n",
        "  Returns\n",
        "  - a (# of training iterations,) numpy array of train_losses evaluated every minibatch\n",
        "  - a (# of epochs + 1,) numpy array of test_losses evaluated once at initialization and after each epoch\n",
        "  - a numpy array of size (100, 56, 56, 1) of generated samples with values in {0, 1}\n",
        "  \"\"\"\n",
        " \n",
        "  \"\"\" YOUR CODE HERE \"\"\""
      ],
      "execution_count": null,
      "outputs": []
    },
    {
      "cell_type": "markdown",
      "metadata": {
        "id": "2kFqvnZN517N"
      },
      "source": [
        "### Results\n",
        "\n",
        "Once you've implemented `q4_c`, execute the cells below to visualize and save your results\n",
        "\n"
      ]
    },
    {
      "cell_type": "code",
      "metadata": {
        "id": "V73EuNZY5_Ld"
      },
      "source": [
        "q4c_save_results(q4_c)"
      ],
      "execution_count": null,
      "outputs": []
    }
  ]
}